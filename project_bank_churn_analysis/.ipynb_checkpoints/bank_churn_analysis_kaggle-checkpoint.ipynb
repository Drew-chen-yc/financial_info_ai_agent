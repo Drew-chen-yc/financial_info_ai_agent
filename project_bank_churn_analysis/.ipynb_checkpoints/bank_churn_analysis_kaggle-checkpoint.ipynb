{
 "cells": [
  {
   "cell_type": "code",
   "execution_count": 1,
   "id": "298692fd-14cf-482c-8b1e-352dbce70f6e",
   "metadata": {},
   "outputs": [],
   "source": [
    "import pandas as pd\n",
    "import matplotlib.pyplot as plt\n",
    "import numpy as np"
   ]
  },
  {
   "cell_type": "markdown",
   "id": "8a5ea92f-3b14-4638-85b2-87232ea47db5",
   "metadata": {},
   "source": [
    "### Load Data"
   ]
  },
  {
   "cell_type": "code",
   "execution_count": 3,
   "id": "6d6a2c17-f428-474a-b0f7-59b55690411c",
   "metadata": {},
   "outputs": [],
   "source": [
    "# https://www.kaggle.com/datasets/sandiledesmondmfazi/bank-customer-churn/data\n",
    "df = pd.read_csv(\"botswana_bank_customer_churn.csv\")"
   ]
  },
  {
   "cell_type": "markdown",
   "id": "02486457-3ca3-4782-ad81-44ba7466f31e",
   "metadata": {},
   "source": [
    "### Check Data and Data Preprocessing"
   ]
  },
  {
   "cell_type": "code",
   "execution_count": 5,
   "id": "53875747-83d5-4bb7-ad20-15fe70fdc45e",
   "metadata": {
    "scrolled": true
   },
   "outputs": [
    {
     "name": "stdout",
     "output_type": "stream",
     "text": [
      "<class 'pandas.core.frame.DataFrame'>\n",
      "RangeIndex: 115640 entries, 0 to 115639\n",
      "Data columns (total 25 columns):\n",
      " #   Column                           Non-Null Count   Dtype  \n",
      "---  ------                           --------------   -----  \n",
      " 0   RowNumber                        115640 non-null  int64  \n",
      " 1   CustomerId                       115640 non-null  object \n",
      " 2   Surname                          115640 non-null  object \n",
      " 3   First Name                       115640 non-null  object \n",
      " 4   Date of Birth                    115640 non-null  object \n",
      " 5   Gender                           115640 non-null  object \n",
      " 6   Marital Status                   115640 non-null  object \n",
      " 7   Number of Dependents             115640 non-null  int64  \n",
      " 8   Occupation                       115640 non-null  object \n",
      " 9   Income                           115640 non-null  float64\n",
      " 10  Education Level                  115640 non-null  object \n",
      " 11  Address                          115640 non-null  object \n",
      " 12  Contact Information              115640 non-null  object \n",
      " 13  Customer Tenure                  115640 non-null  int64  \n",
      " 14  Customer Segment                 115640 non-null  object \n",
      " 15  Preferred Communication Channel  115640 non-null  object \n",
      " 16  Credit Score                     115640 non-null  int64  \n",
      " 17  Credit History Length            115640 non-null  int64  \n",
      " 18  Outstanding Loans                115640 non-null  float64\n",
      " 19  Churn Flag                       115640 non-null  int64  \n",
      " 20  Churn Reason                     14094 non-null   object \n",
      " 21  Churn Date                       14094 non-null   object \n",
      " 22  Balance                          115640 non-null  float64\n",
      " 23  NumOfProducts                    115640 non-null  int64  \n",
      " 24  NumComplaints                    115640 non-null  int64  \n",
      "dtypes: float64(3), int64(8), object(14)\n",
      "memory usage: 22.1+ MB\n"
     ]
    }
   ],
   "source": [
    "df.info()"
   ]
  },
  {
   "cell_type": "code",
   "execution_count": 6,
   "id": "b0d754d0-7c07-4c08-9a81-f79eec27c03e",
   "metadata": {},
   "outputs": [
    {
     "data": {
      "text/html": [
       "<div>\n",
       "<style scoped>\n",
       "    .dataframe tbody tr th:only-of-type {\n",
       "        vertical-align: middle;\n",
       "    }\n",
       "\n",
       "    .dataframe tbody tr th {\n",
       "        vertical-align: top;\n",
       "    }\n",
       "\n",
       "    .dataframe thead th {\n",
       "        text-align: right;\n",
       "    }\n",
       "</style>\n",
       "<table border=\"1\" class=\"dataframe\">\n",
       "  <thead>\n",
       "    <tr style=\"text-align: right;\">\n",
       "      <th></th>\n",
       "      <th>count</th>\n",
       "      <th>mean</th>\n",
       "      <th>std</th>\n",
       "      <th>min</th>\n",
       "      <th>25%</th>\n",
       "      <th>50%</th>\n",
       "      <th>75%</th>\n",
       "      <th>max</th>\n",
       "    </tr>\n",
       "  </thead>\n",
       "  <tbody>\n",
       "    <tr>\n",
       "      <th>RowNumber</th>\n",
       "      <td>115640.0</td>\n",
       "      <td>57820.500000</td>\n",
       "      <td>33382.536902</td>\n",
       "      <td>1.00</td>\n",
       "      <td>28910.750</td>\n",
       "      <td>57820.500</td>\n",
       "      <td>86730.2500</td>\n",
       "      <td>115640.00</td>\n",
       "    </tr>\n",
       "    <tr>\n",
       "      <th>Number of Dependents</th>\n",
       "      <td>115640.0</td>\n",
       "      <td>2.502923</td>\n",
       "      <td>1.707249</td>\n",
       "      <td>0.00</td>\n",
       "      <td>1.000</td>\n",
       "      <td>3.000</td>\n",
       "      <td>4.0000</td>\n",
       "      <td>5.00</td>\n",
       "    </tr>\n",
       "    <tr>\n",
       "      <th>Income</th>\n",
       "      <td>115640.0</td>\n",
       "      <td>52641.363046</td>\n",
       "      <td>27429.756390</td>\n",
       "      <td>5000.96</td>\n",
       "      <td>28857.070</td>\n",
       "      <td>52658.110</td>\n",
       "      <td>76364.1575</td>\n",
       "      <td>99999.51</td>\n",
       "    </tr>\n",
       "    <tr>\n",
       "      <th>Customer Tenure</th>\n",
       "      <td>115640.0</td>\n",
       "      <td>15.490591</td>\n",
       "      <td>8.654217</td>\n",
       "      <td>1.00</td>\n",
       "      <td>8.000</td>\n",
       "      <td>15.000</td>\n",
       "      <td>23.0000</td>\n",
       "      <td>30.00</td>\n",
       "    </tr>\n",
       "    <tr>\n",
       "      <th>Credit Score</th>\n",
       "      <td>115640.0</td>\n",
       "      <td>574.299775</td>\n",
       "      <td>159.067499</td>\n",
       "      <td>300.00</td>\n",
       "      <td>436.000</td>\n",
       "      <td>574.000</td>\n",
       "      <td>712.0000</td>\n",
       "      <td>850.00</td>\n",
       "    </tr>\n",
       "    <tr>\n",
       "      <th>Credit History Length</th>\n",
       "      <td>115640.0</td>\n",
       "      <td>15.546602</td>\n",
       "      <td>8.654630</td>\n",
       "      <td>1.00</td>\n",
       "      <td>8.000</td>\n",
       "      <td>16.000</td>\n",
       "      <td>23.0000</td>\n",
       "      <td>30.00</td>\n",
       "    </tr>\n",
       "    <tr>\n",
       "      <th>Outstanding Loans</th>\n",
       "      <td>115640.0</td>\n",
       "      <td>25502.731792</td>\n",
       "      <td>14127.859827</td>\n",
       "      <td>1000.43</td>\n",
       "      <td>13226.060</td>\n",
       "      <td>25505.285</td>\n",
       "      <td>37742.2500</td>\n",
       "      <td>49999.69</td>\n",
       "    </tr>\n",
       "    <tr>\n",
       "      <th>Churn Flag</th>\n",
       "      <td>115640.0</td>\n",
       "      <td>0.121878</td>\n",
       "      <td>0.327147</td>\n",
       "      <td>0.00</td>\n",
       "      <td>0.000</td>\n",
       "      <td>0.000</td>\n",
       "      <td>0.0000</td>\n",
       "      <td>1.00</td>\n",
       "    </tr>\n",
       "    <tr>\n",
       "      <th>Balance</th>\n",
       "      <td>115640.0</td>\n",
       "      <td>124639.209748</td>\n",
       "      <td>72210.476638</td>\n",
       "      <td>1.06</td>\n",
       "      <td>61991.915</td>\n",
       "      <td>124505.890</td>\n",
       "      <td>187122.9225</td>\n",
       "      <td>249998.91</td>\n",
       "    </tr>\n",
       "    <tr>\n",
       "      <th>NumOfProducts</th>\n",
       "      <td>115640.0</td>\n",
       "      <td>2.999274</td>\n",
       "      <td>1.411361</td>\n",
       "      <td>1.00</td>\n",
       "      <td>2.000</td>\n",
       "      <td>3.000</td>\n",
       "      <td>4.0000</td>\n",
       "      <td>5.00</td>\n",
       "    </tr>\n",
       "    <tr>\n",
       "      <th>NumComplaints</th>\n",
       "      <td>115640.0</td>\n",
       "      <td>4.991724</td>\n",
       "      <td>3.159283</td>\n",
       "      <td>0.00</td>\n",
       "      <td>2.000</td>\n",
       "      <td>5.000</td>\n",
       "      <td>8.0000</td>\n",
       "      <td>10.00</td>\n",
       "    </tr>\n",
       "  </tbody>\n",
       "</table>\n",
       "</div>"
      ],
      "text/plain": [
       "                          count           mean           std      min  \\\n",
       "RowNumber              115640.0   57820.500000  33382.536902     1.00   \n",
       "Number of Dependents   115640.0       2.502923      1.707249     0.00   \n",
       "Income                 115640.0   52641.363046  27429.756390  5000.96   \n",
       "Customer Tenure        115640.0      15.490591      8.654217     1.00   \n",
       "Credit Score           115640.0     574.299775    159.067499   300.00   \n",
       "Credit History Length  115640.0      15.546602      8.654630     1.00   \n",
       "Outstanding Loans      115640.0   25502.731792  14127.859827  1000.43   \n",
       "Churn Flag             115640.0       0.121878      0.327147     0.00   \n",
       "Balance                115640.0  124639.209748  72210.476638     1.06   \n",
       "NumOfProducts          115640.0       2.999274      1.411361     1.00   \n",
       "NumComplaints          115640.0       4.991724      3.159283     0.00   \n",
       "\n",
       "                             25%         50%          75%        max  \n",
       "RowNumber              28910.750   57820.500   86730.2500  115640.00  \n",
       "Number of Dependents       1.000       3.000       4.0000       5.00  \n",
       "Income                 28857.070   52658.110   76364.1575   99999.51  \n",
       "Customer Tenure            8.000      15.000      23.0000      30.00  \n",
       "Credit Score             436.000     574.000     712.0000     850.00  \n",
       "Credit History Length      8.000      16.000      23.0000      30.00  \n",
       "Outstanding Loans      13226.060   25505.285   37742.2500   49999.69  \n",
       "Churn Flag                 0.000       0.000       0.0000       1.00  \n",
       "Balance                61991.915  124505.890  187122.9225  249998.91  \n",
       "NumOfProducts              2.000       3.000       4.0000       5.00  \n",
       "NumComplaints              2.000       5.000       8.0000      10.00  "
      ]
     },
     "execution_count": 6,
     "metadata": {},
     "output_type": "execute_result"
    }
   ],
   "source": [
    "df.describe().T"
   ]
  },
  {
   "cell_type": "code",
   "execution_count": 7,
   "id": "1c0b6f57-e969-4aa3-bc9d-a90e43733348",
   "metadata": {},
   "outputs": [
    {
     "data": {
      "image/png": "[encoded data removed]",
      "text/plain": [
       "<Figure size 500x400 with 1 Axes>"
      ]
     },
     "metadata": {},
     "output_type": "display_data"
    }
   ],
   "source": [
    "# Count the occurrences of each Churn Flag\n",
    "churn_counts = df['Churn Flag'].value_counts()\n",
    "\n",
    "plt.figure(figsize=(5, 4))\n",
    "bars = plt.bar(churn_counts.index, churn_counts.values, color=['skyblue', 'salmon'])\n",
    "\n",
    "# Adding labels on top of each bar\n",
    "for bar in bars:\n",
    "    yval = bar.get_height()  # Get the height of the bar\n",
    "    plt.text(bar.get_x() + bar.get_width()/2, yval, int(yval), \n",
    "             ha='center', va='bottom', fontsize=12)  # Add text label\n",
    "\n",
    "plt.title('Churn Flag Distribution (0 vs 1)', fontsize=14)\n",
    "plt.xlabel('Churn Flag', fontsize=12)\n",
    "plt.ylabel('Count', fontsize=12)\n",
    "plt.xticks(rotation=0)  # Rotate x labels for better readability\n",
    "plt.grid(axis='y', linestyle='--')  # Add grid lines for better visibility\n",
    "plt.show()  # Display the plot"
   ]
  },
  {
   "cell_type": "code",
   "execution_count": 8,
   "id": "e67c9c58-2a51-4627-8599-1003244501df",
   "metadata": {},
   "outputs": [
    {
     "name": "stdout",
     "output_type": "stream",
     "text": [
      "Value counts for CustomerId:\n",
      "CustomerId\n",
      "83ef0b54-35f6-4f84-af58-5653ac0c0dc4    1\n",
      "52daf603-0a34-4ee2-8e04-6fe371b898b4    1\n",
      "0d932e5b-bb3a-4104-8c83-f84270f7f2ea    1\n",
      "c18b027e-b108-4900-b413-dac87e2ee9b5    1\n",
      "7091e271-7d2b-4e73-934f-8398e2a1dcbc    1\n",
      "                                       ..\n",
      "73a64c22-da8f-4c3e-8f62-d92f03636a1e    1\n",
      "00affc66-75c4-43c4-9019-f28c434b5012    1\n",
      "1af846ff-7731-4a43-9214-1426c329af7c    1\n",
      "7a7d7ef6-94b1-46ae-b26d-9291e2de3c26    1\n",
      "cf2dbdf3-607d-414a-bc14-413dde1c3fc7    1\n",
      "Name: count, Length: 115640, dtype: int64\n",
      "\n",
      "Value counts for Surname:\n",
      "Surname\n",
      "Smith        2513\n",
      "Johnson      1965\n",
      "Williams     1637\n",
      "Brown        1518\n",
      "Jones        1424\n",
      "             ... \n",
      "Levy           26\n",
      "Mcpherson      25\n",
      "Glass          24\n",
      "Bonilla        23\n",
      "Odom           20\n",
      "Name: count, Length: 1000, dtype: int64\n",
      "\n",
      "Value counts for First Name:\n",
      "First Name\n",
      "Michael     2661\n",
      "David       1817\n",
      "James       1777\n",
      "Jennifer    1674\n",
      "John        1645\n",
      "            ... \n",
      "Malik         10\n",
      "Angie          9\n",
      "Terrance       9\n",
      "Marisa         8\n",
      "Gordon         8\n",
      "Name: count, Length: 690, dtype: int64\n",
      "\n",
      "Value counts for Date of Birth:\n",
      "Date of Birth\n",
      "1978-12-28    17\n",
      "1977-07-21    17\n",
      "1990-12-05    16\n",
      "1960-09-21    16\n",
      "1989-01-24    15\n",
      "              ..\n",
      "1956-10-07     1\n",
      "1968-01-23     1\n",
      "1959-10-14     1\n",
      "1994-12-21     1\n",
      "1985-10-22     1\n",
      "Name: count, Length: 21094, dtype: int64\n",
      "\n",
      "Value counts for Gender:\n",
      "Gender\n",
      "Female    57830\n",
      "Male      57810\n",
      "Name: count, dtype: int64\n",
      "\n",
      "Value counts for Marital Status:\n",
      "Marital Status\n",
      "Single      38684\n",
      "Divorced    38539\n",
      "Married     38417\n",
      "Name: count, dtype: int64\n",
      "\n",
      "Value counts for Occupation:\n",
      "Occupation\n",
      "Engineer, materials                 222\n",
      "Biochemist, clinical                218\n",
      "Contractor                          217\n",
      "Surveyor, building                  215\n",
      "Surveyor, commercial/residential    215\n",
      "                                   ... \n",
      "Engineering geologist               148\n",
      "Civil engineer, consulting          147\n",
      "Fitness centre manager              147\n",
      "Designer, furniture                 145\n",
      "Telecommunications researcher       143\n",
      "Name: count, Length: 639, dtype: int64\n",
      "\n",
      "Value counts for Education Level:\n",
      "Education Level\n",
      "Master's       28970\n",
      "Diploma        28950\n",
      "High School    28868\n",
      "Bachelor's     28852\n",
      "Name: count, dtype: int64\n",
      "\n",
      "Value counts for Address:\n",
      "Address\n",
      "26644 Diaz Viaduct\\nNorth Jessicaville, VI 14852       1\n",
      "519 Cameron Isle Suite 807\\nGinabury, VA 37351         1\n",
      "0120 Leslie River\\nWest Lindseychester, MN 98290       1\n",
      "PSC 3787, Box 9869\\nAPO AP 62324                       1\n",
      "983 Adams Coves\\nLake Roberto, MP 82550                1\n",
      "                                                      ..\n",
      "4952 Thomas Corners Apt. 346\\nEdwinshire, GU 41106     1\n",
      "9575 Edward Springs\\nMichaelmouth, KS 02190            1\n",
      "15135 Jessica Common Apt. 741\\nReevesview, AK 59257    1\n",
      "PSC 7106, Box 1352\\nAPO AP 90666                       1\n",
      "9721 George Well\\nNorth Brianmouth, DC 84440           1\n",
      "Name: count, Length: 115640, dtype: int64\n",
      "\n",
      "Value counts for Contact Information:\n",
      "Contact Information\n",
      "001-301-934-3058x0825     1\n",
      "682-722-6447x5212         1\n",
      "204.515.2388              1\n",
      "001-880-967-5883x0508     1\n",
      "4756961139                1\n",
      "                         ..\n",
      "(734)940-1024             1\n",
      "(980)271-6580             1\n",
      "464-201-8140x52983        1\n",
      "001-555-528-8573x96957    1\n",
      "300.399.7848              1\n",
      "Name: count, Length: 115640, dtype: int64\n",
      "\n",
      "Value counts for Customer Segment:\n",
      "Customer Segment\n",
      "SME          38903\n",
      "Corporate    38606\n",
      "Retail       38131\n",
      "Name: count, dtype: int64\n",
      "\n",
      "Value counts for Preferred Communication Channel:\n",
      "Preferred Communication Channel\n",
      "Email    58044\n",
      "Phone    57596\n",
      "Name: count, dtype: int64\n",
      "\n",
      "Value counts for Churn Reason:\n",
      "Churn Reason\n",
      "Service Issues             3573\n",
      "Account Closure            3548\n",
      "Relocation                 3528\n",
      "Better Offers Elsewhere    3445\n",
      "Name: count, dtype: int64\n",
      "\n",
      "Value counts for Churn Date:\n",
      "Churn Date\n",
      "2024-04-06    82\n",
      "2024-04-05    82\n",
      "2024-04-22    81\n",
      "2024-07-13    81\n",
      "2024-04-30    79\n",
      "              ..\n",
      "2024-01-29    48\n",
      "2024-03-12    47\n",
      "2024-02-18    47\n",
      "2024-04-19    46\n",
      "2024-01-07    44\n",
      "Name: count, Length: 220, dtype: int64\n",
      "\n"
     ]
    }
   ],
   "source": [
    "for col in df.columns:\n",
    "    if df[col].dtype == 'object':  # Check if the column data type is object\n",
    "        print(f\"Value counts for {col}:\")\n",
    "        print(df[col].value_counts().sort_values(ascending=False))\n",
    "        print()  # Print a newline for better readability"
   ]
  },
  {
   "cell_type": "code",
   "execution_count": 9,
   "id": "12416fb3-4751-4821-9f80-ddb6d008f77e",
   "metadata": {},
   "outputs": [],
   "source": [
    "# Extract the state from Adress columns\n",
    "def extract_zip_code_state(address):\n",
    "    parts = address.split(\"\\n\")\n",
    "    zip_code_state = parts[1].split(\" \")\n",
    "    return zip_code_state\n",
    "\n",
    "df['zip_code_state'] = df['Address'].apply(extract_zip_code_state)\n",
    "df['zip_code'] = df['zip_code_state'].apply(lambda x: x[-1])\n",
    "df['state'] = df['zip_code_state'].apply(lambda x: x[-2])"
   ]
  },
  {
   "cell_type": "code",
   "execution_count": 10,
   "id": "fd899f97-23d1-41ad-801d-2a3f80e7977a",
   "metadata": {},
   "outputs": [],
   "source": [
    "# Create the 'Region_West', 'Region_Midwest', 'Region_South', 'Region_Northeast' columns: 1 if the state is in corresponding list, otherwise 0\n",
    "\n",
    "western_states = ['WA', 'OR', 'CA', 'ID', 'NV', 'WY', 'UT', 'AZ', 'CO', 'NM', 'AK']\n",
    "midwest_states = ['ND','SD','NE','KS','MN','IA','MO','WI','IL','IN','MI','OH']\n",
    "south_states = ['TX','OK','AR','LA','KY','TN','MS','AL','WV','DE','MD','DC','VA','NC','SC','GA','FL', 'PR']\n",
    "northeast_states = ['ME','VT','NH','MA','CT','RI','NY','PA','NJ']\n",
    "\n",
    "df['Region_West'] = df['state'].apply(lambda x: 1 if x in western_states else 0)\n",
    "df['Region_Midwest'] = df['state'].apply(lambda x: 1 if x in midwest_states else 0)\n",
    "df['Region_South'] = df['state'].apply(lambda x: 1 if x in south_states else 0)\n",
    "df['Region_Northeast'] = df['state'].apply(lambda x: 1 if x in northeast_states else 0)"
   ]
  },
  {
   "cell_type": "code",
   "execution_count": 11,
   "id": "2938b43f-ec87-4625-90e9-2d1043b59834",
   "metadata": {},
   "outputs": [],
   "source": [
    "from datetime import datetime\n",
    "# Transform the objest datatype to datetime. and claculate age for each datapoint\n",
    "df['Date of Birth'] = pd.to_datetime(df['Date of Birth'])\n",
    "\n",
    "currentdate = datetime.strptime('2024-08-07', '%Y-%m-%d')\n",
    "\n",
    "# Calculate the age by subtracting the year and adjusting for whether the birthday has occurred yet this year\n",
    "df['age'] = currentdate.year - df['Date of Birth'].dt.year"
   ]
  },
  {
   "cell_type": "code",
   "execution_count": 12,
   "id": "20924ccc-2b1d-4261-b8ba-649686cc7f11",
   "metadata": {},
   "outputs": [],
   "source": [
    "# Drop the redundant columns\n",
    "df = df.drop(['RowNumber','CustomerId','Surname','First Name','Occupation','Contact Information','Churn Reason','Churn Date', 'Address', 'zip_code', 'state', 'zip_code_state', 'Date of Birth'], axis=1)"
   ]
  },
  {
   "cell_type": "code",
   "execution_count": 13,
   "id": "dc40d874-6a82-40cc-86b7-5f3844c06cbd",
   "metadata": {},
   "outputs": [],
   "source": [
    "# Binary Encoding\n",
    "binary_encode_cols = {\n",
    "    'Gender': {'Female': 1, 'Male': 0},\n",
    "    'Preferred Communication Channel': {'Email': 1, 'Phone': 0},\n",
    "}\n",
    "\n",
    "for col, mapping in binary_encode_cols.items():\n",
    "    df[col] = df[col].map(mapping)"
   ]
  },
  {
   "cell_type": "code",
   "execution_count": 14,
   "id": "f3186782-2f9c-47a8-b1bf-6ffe923800f9",
   "metadata": {},
   "outputs": [],
   "source": [
    "#One-Hot Encoding\n",
    "one_hot_cols = ['Marital Status', 'Education Level', 'Customer Segment']\n",
    "\n",
    "# One-hot encode data\n",
    "df_encoded = pd.get_dummies(df, columns=one_hot_cols, drop_first=True)"
   ]
  },
  {
   "cell_type": "markdown",
   "id": "dbefb732-d9b6-4a70-8ea5-bb307b14f784",
   "metadata": {},
   "source": [
    "### Train test split and SMOTE¶"
   ]
  },
  {
   "cell_type": "code",
   "execution_count": 16,
   "id": "96d453e4-3c2a-4111-adfc-1584322aebd8",
   "metadata": {},
   "outputs": [],
   "source": [
    "from sklearn.model_selection import train_test_split\n",
    "from imblearn.over_sampling import SMOTE\n",
    "from collections import Counter"
   ]
  },
  {
   "cell_type": "code",
   "execution_count": 17,
   "id": "c31adc38-39f9-4a3e-bd76-2fe097e6039a",
   "metadata": {},
   "outputs": [],
   "source": [
    "# Separate features and target\n",
    "X = df_encoded.drop(['Churn Flag'], axis=1)\n",
    "y = df_encoded['Churn Flag']"
   ]
  },
  {
   "cell_type": "code",
   "execution_count": 18,
   "id": "08468d35-be81-45c9-9e8d-9c76b17b059b",
   "metadata": {},
   "outputs": [
    {
     "name": "stdout",
     "output_type": "stream",
     "text": [
      "Class distribution before SMOTE: Counter({0: 71082, 1: 9866})\n"
     ]
    }
   ],
   "source": [
    "# Split the data\n",
    "X_train, X_test, y_train, y_test = train_test_split(X, y, test_size=0.3, random_state=42, stratify=y)\n",
    "print(\"Class distribution before SMOTE:\", Counter(y_train))"
   ]
  },
  {
   "cell_type": "code",
   "execution_count": 19,
   "id": "6aac4a99-112c-4f6b-b78f-cbe79ad186d8",
   "metadata": {},
   "outputs": [
    {
     "name": "stdout",
     "output_type": "stream",
     "text": [
      "Class distribution after SMOTE: Counter({1: 71082, 0: 71082})\n"
     ]
    }
   ],
   "source": [
    "# Initiate the SMOTE\n",
    "smote = SMOTE(random_state=55688)\n",
    "\n",
    "# Apply SMOTE to the training data\n",
    "X_resampled, y_resampled = smote.fit_resample(X_train, y_train)\n",
    "print(\"Class distribution after SMOTE:\", Counter(y_resampled))"
   ]
  },
  {
   "cell_type": "markdown",
   "id": "51f2ba11-ad8d-4dae-bbae-22842e9e8a4a",
   "metadata": {},
   "source": [
    "### Modeling"
   ]
  },
  {
   "cell_type": "code",
   "execution_count": 21,
   "id": "12bacfb7-f008-42cc-b82e-ede300c7c8de",
   "metadata": {},
   "outputs": [],
   "source": [
    "import lightgbm as lgb\n",
    "from sklearn.model_selection import train_test_split, KFold\n",
    "from sklearn.feature_selection import SelectFromModel"
   ]
  },
  {
   "cell_type": "code",
   "execution_count": 22,
   "id": "ecc8d595-7d38-409e-8a01-67a4791582b2",
   "metadata": {
    "scrolled": true
   },
   "outputs": [
    {
     "name": "stdout",
     "output_type": "stream",
     "text": [
      "[LightGBM] [Warning] Found whitespace in feature_names, replace with underlines\n",
      "[LightGBM] [Info] Number of positive: 63909, number of negative: 64038\n",
      "[LightGBM] [Info] Auto-choosing row-wise multi-threading, the overhead of testing was 0.008877 seconds.\n",
      "You can set `force_row_wise=true` to remove the overhead.\n",
      "And if memory is not enough, you can set `force_col_wise=true`.\n",
      "[LightGBM] [Info] Total Bins 1190\n",
      "[LightGBM] [Info] Number of data points in the train set: 127947, number of used features: 23\n",
      "[LightGBM] [Warning] Found whitespace in feature_names, replace with underlines\n",
      "[LightGBM] [Info] [binary:BoostFromScore]: pavg=0.499496 -> initscore=-0.002016\n",
      "[LightGBM] [Info] Start training from score -0.002016\n",
      "Training until validation scores don't improve for 10 rounds\n",
      "Did not meet early stopping. Best iteration is:\n",
      "[100]\tvalid_0's binary_logloss: 0.0174762\n",
      "[LightGBM] [Warning] Found whitespace in feature_names, replace with underlines\n",
      "[LightGBM] [Info] Number of positive: 63962, number of negative: 63985\n",
      "[LightGBM] [Info] Auto-choosing col-wise multi-threading, the overhead of testing was 0.024204 seconds.\n",
      "You can set `force_col_wise=true` to remove the overhead.\n",
      "[LightGBM] [Info] Total Bins 1190\n",
      "[LightGBM] [Info] Number of data points in the train set: 127947, number of used features: 23\n",
      "[LightGBM] [Warning] Found whitespace in feature_names, replace with underlines\n",
      "[LightGBM] [Info] [binary:BoostFromScore]: pavg=0.499910 -> initscore=-0.000360\n",
      "[LightGBM] [Info] Start training from score -0.000360\n",
      "Training until validation scores don't improve for 10 rounds\n",
      "Did not meet early stopping. Best iteration is:\n",
      "[100]\tvalid_0's binary_logloss: 0.017027\n",
      "[LightGBM] [Warning] Found whitespace in feature_names, replace with underlines\n",
      "[LightGBM] [Info] Number of positive: 63966, number of negative: 63981\n",
      "[LightGBM] [Info] Auto-choosing row-wise multi-threading, the overhead of testing was 0.008693 seconds.\n",
      "You can set `force_row_wise=true` to remove the overhead.\n",
      "And if memory is not enough, you can set `force_col_wise=true`.\n",
      "[LightGBM] [Info] Total Bins 1190\n",
      "[LightGBM] [Info] Number of data points in the train set: 127947, number of used features: 23\n",
      "[LightGBM] [Warning] Found whitespace in feature_names, replace with underlines\n",
      "[LightGBM] [Info] [binary:BoostFromScore]: pavg=0.499941 -> initscore=-0.000234\n",
      "[LightGBM] [Info] Start training from score -0.000234\n",
      "Training until validation scores don't improve for 10 rounds\n",
      "Did not meet early stopping. Best iteration is:\n",
      "[100]\tvalid_0's binary_logloss: 0.0175336\n",
      "[LightGBM] [Warning] Found whitespace in feature_names, replace with underlines\n",
      "[LightGBM] [Info] Number of positive: 64119, number of negative: 63828\n",
      "[LightGBM] [Info] Auto-choosing row-wise multi-threading, the overhead of testing was 0.010382 seconds.\n",
      "You can set `force_row_wise=true` to remove the overhead.\n",
      "And if memory is not enough, you can set `force_col_wise=true`.\n",
      "[LightGBM] [Info] Total Bins 1190\n",
      "[LightGBM] [Info] Number of data points in the train set: 127947, number of used features: 23\n",
      "[LightGBM] [Warning] Found whitespace in feature_names, replace with underlines\n",
      "[LightGBM] [Info] [binary:BoostFromScore]: pavg=0.501137 -> initscore=0.004549\n",
      "[LightGBM] [Info] Start training from score 0.004549\n",
      "Training until validation scores don't improve for 10 rounds\n",
      "Did not meet early stopping. Best iteration is:\n",
      "[100]\tvalid_0's binary_logloss: 0.0170124\n",
      "[LightGBM] [Warning] Found whitespace in feature_names, replace with underlines\n",
      "[LightGBM] [Info] Number of positive: 63945, number of negative: 64003\n",
      "[LightGBM] [Info] Auto-choosing row-wise multi-threading, the overhead of testing was 0.016881 seconds.\n",
      "You can set `force_row_wise=true` to remove the overhead.\n",
      "And if memory is not enough, you can set `force_col_wise=true`.\n",
      "[LightGBM] [Info] Total Bins 1191\n",
      "[LightGBM] [Info] Number of data points in the train set: 127948, number of used features: 23\n",
      "[LightGBM] [Warning] Found whitespace in feature_names, replace with underlines\n",
      "[LightGBM] [Info] [binary:BoostFromScore]: pavg=0.499773 -> initscore=-0.000907\n",
      "[LightGBM] [Info] Start training from score -0.000907\n",
      "Training until validation scores don't improve for 10 rounds\n",
      "Did not meet early stopping. Best iteration is:\n",
      "[100]\tvalid_0's binary_logloss: 0.017244\n",
      "[LightGBM] [Warning] Found whitespace in feature_names, replace with underlines\n",
      "[LightGBM] [Info] Number of positive: 63988, number of negative: 63960\n",
      "[LightGBM] [Info] Auto-choosing row-wise multi-threading, the overhead of testing was 0.009996 seconds.\n",
      "You can set `force_row_wise=true` to remove the overhead.\n",
      "And if memory is not enough, you can set `force_col_wise=true`.\n",
      "[LightGBM] [Info] Total Bins 1190\n",
      "[LightGBM] [Info] Number of data points in the train set: 127948, number of used features: 23\n",
      "[LightGBM] [Warning] Found whitespace in feature_names, replace with underlines\n",
      "[LightGBM] [Info] [binary:BoostFromScore]: pavg=0.500109 -> initscore=0.000438\n",
      "[LightGBM] [Info] Start training from score 0.000438\n",
      "Training until validation scores don't improve for 10 rounds\n",
      "Did not meet early stopping. Best iteration is:\n",
      "[100]\tvalid_0's binary_logloss: 0.018576\n",
      "[LightGBM] [Warning] Found whitespace in feature_names, replace with underlines\n",
      "[LightGBM] [Info] Number of positive: 64009, number of negative: 63939\n",
      "[LightGBM] [Info] Auto-choosing row-wise multi-threading, the overhead of testing was 0.008484 seconds.\n",
      "You can set `force_row_wise=true` to remove the overhead.\n",
      "And if memory is not enough, you can set `force_col_wise=true`.\n",
      "[LightGBM] [Info] Total Bins 1190\n",
      "[LightGBM] [Info] Number of data points in the train set: 127948, number of used features: 23\n",
      "[LightGBM] [Warning] Found whitespace in feature_names, replace with underlines\n",
      "[LightGBM] [Info] [binary:BoostFromScore]: pavg=0.500274 -> initscore=0.001094\n",
      "[LightGBM] [Info] Start training from score 0.001094\n",
      "Training until validation scores don't improve for 10 rounds\n",
      "Did not meet early stopping. Best iteration is:\n",
      "[100]\tvalid_0's binary_logloss: 0.0167321\n",
      "[LightGBM] [Warning] Found whitespace in feature_names, replace with underlines\n",
      "[LightGBM] [Info] Number of positive: 63893, number of negative: 64055\n",
      "[LightGBM] [Info] Auto-choosing row-wise multi-threading, the overhead of testing was 0.011131 seconds.\n",
      "You can set `force_row_wise=true` to remove the overhead.\n",
      "And if memory is not enough, you can set `force_col_wise=true`.\n",
      "[LightGBM] [Info] Total Bins 1191\n",
      "[LightGBM] [Info] Number of data points in the train set: 127948, number of used features: 23\n",
      "[LightGBM] [Warning] Found whitespace in feature_names, replace with underlines\n",
      "[LightGBM] [Info] [binary:BoostFromScore]: pavg=0.499367 -> initscore=-0.002532\n",
      "[LightGBM] [Info] Start training from score -0.002532\n",
      "Training until validation scores don't improve for 10 rounds\n",
      "Did not meet early stopping. Best iteration is:\n",
      "[100]\tvalid_0's binary_logloss: 0.017044\n",
      "[LightGBM] [Warning] Found whitespace in feature_names, replace with underlines\n",
      "[LightGBM] [Info] Number of positive: 63994, number of negative: 63954\n",
      "[LightGBM] [Info] Auto-choosing row-wise multi-threading, the overhead of testing was 0.007201 seconds.\n",
      "You can set `force_row_wise=true` to remove the overhead.\n",
      "And if memory is not enough, you can set `force_col_wise=true`.\n",
      "[LightGBM] [Info] Total Bins 1191\n",
      "[LightGBM] [Info] Number of data points in the train set: 127948, number of used features: 23\n",
      "[LightGBM] [Warning] Found whitespace in feature_names, replace with underlines\n",
      "[LightGBM] [Info] [binary:BoostFromScore]: pavg=0.500156 -> initscore=0.000625\n",
      "[LightGBM] [Info] Start training from score 0.000625\n",
      "Training until validation scores don't improve for 10 rounds\n",
      "Did not meet early stopping. Best iteration is:\n",
      "[100]\tvalid_0's binary_logloss: 0.0176648\n",
      "[LightGBM] [Warning] Found whitespace in feature_names, replace with underlines\n",
      "[LightGBM] [Info] Number of positive: 63953, number of negative: 63995\n",
      "[LightGBM] [Info] Auto-choosing row-wise multi-threading, the overhead of testing was 0.013383 seconds.\n",
      "You can set `force_row_wise=true` to remove the overhead.\n",
      "And if memory is not enough, you can set `force_col_wise=true`.\n",
      "[LightGBM] [Info] Total Bins 1191\n",
      "[LightGBM] [Info] Number of data points in the train set: 127948, number of used features: 23\n",
      "[LightGBM] [Warning] Found whitespace in feature_names, replace with underlines\n",
      "[LightGBM] [Info] [binary:BoostFromScore]: pavg=0.499836 -> initscore=-0.000657\n",
      "[LightGBM] [Info] Start training from score -0.000657\n",
      "Training until validation scores don't improve for 10 rounds\n",
      "Did not meet early stopping. Best iteration is:\n",
      "[100]\tvalid_0's binary_logloss: 0.0171216\n"
     ]
    }
   ],
   "source": [
    "# Train LightGBM with 10-Fold Cross-Validation\n",
    "kf = KFold(n_splits=10, shuffle=True, random_state=55688)\n",
    "model = lgb.LGBMClassifier()\n",
    "\n",
    "\n",
    "# Initialize an empty list to store the feature importance across folds\n",
    "feature_importance = np.zeros(X_resampled.shape[1])\n",
    "\n",
    "for train_index, val_index in kf.split(X_resampled):\n",
    "    X_fold_train, X_fold_val = X_resampled.iloc[train_index], X_resampled.iloc[val_index]\n",
    "    y_fold_train, y_fold_val = y_resampled.iloc[train_index], y_resampled.iloc[val_index]\n",
    "    \n",
    "    model.fit(\n",
    "        X_fold_train, \n",
    "        y_fold_train, \n",
    "        eval_set=[(X_fold_val, y_fold_val)], \n",
    "        eval_metric='logloss',\n",
    "        callbacks=[lgb.early_stopping(stopping_rounds=10), lgb.log_evaluation(0)]\n",
    "    )\n",
    "    \n",
    "    # Add feature importances\n",
    "    feature_importance += model.feature_importances_"
   ]
  },
  {
   "cell_type": "code",
   "execution_count": 76,
   "id": "26350d5b-7056-4408-afe4-04d2725c609a",
   "metadata": {
    "scrolled": true
   },
   "outputs": [
    {
     "name": "stdout",
     "output_type": "stream",
     "text": [
      "⏳ Training model: Logistic Regression\n"
     ]
    },
    {
     "name": "stderr",
     "output_type": "stream",
     "text": [
      "C:\\Users\\kkiwi\\anaconda3\\Lib\\site-packages\\sklearn\\linear_model\\_logistic.py:469: ConvergenceWarning: lbfgs failed to converge (status=1):\n",
      "STOP: TOTAL NO. of ITERATIONS REACHED LIMIT.\n",
      "\n",
      "Increase the number of iterations (max_iter) or scale the data as shown in:\n",
      "    https://scikit-learn.org/stable/modules/preprocessing.html\n",
      "Please also refer to the documentation for alternative solver options:\n",
      "    https://scikit-learn.org/stable/modules/linear_model.html#logistic-regression\n",
      "  n_iter_i = _check_optimize_result(\n",
      "C:\\Users\\kkiwi\\anaconda3\\Lib\\site-packages\\sklearn\\linear_model\\_logistic.py:469: ConvergenceWarning: lbfgs failed to converge (status=1):\n",
      "STOP: TOTAL NO. of ITERATIONS REACHED LIMIT.\n",
      "\n",
      "Increase the number of iterations (max_iter) or scale the data as shown in:\n",
      "    https://scikit-learn.org/stable/modules/preprocessing.html\n",
      "Please also refer to the documentation for alternative solver options:\n",
      "    https://scikit-learn.org/stable/modules/linear_model.html#logistic-regression\n",
      "  n_iter_i = _check_optimize_result(\n",
      "C:\\Users\\kkiwi\\anaconda3\\Lib\\site-packages\\sklearn\\linear_model\\_logistic.py:469: ConvergenceWarning: lbfgs failed to converge (status=1):\n",
      "STOP: TOTAL NO. of ITERATIONS REACHED LIMIT.\n",
      "\n",
      "Increase the number of iterations (max_iter) or scale the data as shown in:\n",
      "    https://scikit-learn.org/stable/modules/preprocessing.html\n",
      "Please also refer to the documentation for alternative solver options:\n",
      "    https://scikit-learn.org/stable/modules/linear_model.html#logistic-regression\n",
      "  n_iter_i = _check_optimize_result(\n",
      "C:\\Users\\kkiwi\\anaconda3\\Lib\\site-packages\\sklearn\\linear_model\\_logistic.py:469: ConvergenceWarning: lbfgs failed to converge (status=1):\n",
      "STOP: TOTAL NO. of ITERATIONS REACHED LIMIT.\n",
      "\n",
      "Increase the number of iterations (max_iter) or scale the data as shown in:\n",
      "    https://scikit-learn.org/stable/modules/preprocessing.html\n",
      "Please also refer to the documentation for alternative solver options:\n",
      "    https://scikit-learn.org/stable/modules/linear_model.html#logistic-regression\n",
      "  n_iter_i = _check_optimize_result(\n",
      "C:\\Users\\kkiwi\\anaconda3\\Lib\\site-packages\\sklearn\\linear_model\\_logistic.py:469: ConvergenceWarning: lbfgs failed to converge (status=1):\n",
      "STOP: TOTAL NO. of ITERATIONS REACHED LIMIT.\n",
      "\n",
      "Increase the number of iterations (max_iter) or scale the data as shown in:\n",
      "    https://scikit-learn.org/stable/modules/preprocessing.html\n",
      "Please also refer to the documentation for alternative solver options:\n",
      "    https://scikit-learn.org/stable/modules/linear_model.html#logistic-regression\n",
      "  n_iter_i = _check_optimize_result(\n",
      "C:\\Users\\kkiwi\\anaconda3\\Lib\\site-packages\\sklearn\\linear_model\\_logistic.py:469: ConvergenceWarning: lbfgs failed to converge (status=1):\n",
      "STOP: TOTAL NO. of ITERATIONS REACHED LIMIT.\n",
      "\n",
      "Increase the number of iterations (max_iter) or scale the data as shown in:\n",
      "    https://scikit-learn.org/stable/modules/preprocessing.html\n",
      "Please also refer to the documentation for alternative solver options:\n",
      "    https://scikit-learn.org/stable/modules/linear_model.html#logistic-regression\n",
      "  n_iter_i = _check_optimize_result(\n",
      "C:\\Users\\kkiwi\\anaconda3\\Lib\\site-packages\\sklearn\\linear_model\\_logistic.py:469: ConvergenceWarning: lbfgs failed to converge (status=1):\n",
      "STOP: TOTAL NO. of ITERATIONS REACHED LIMIT.\n",
      "\n",
      "Increase the number of iterations (max_iter) or scale the data as shown in:\n",
      "    https://scikit-learn.org/stable/modules/preprocessing.html\n",
      "Please also refer to the documentation for alternative solver options:\n",
      "    https://scikit-learn.org/stable/modules/linear_model.html#logistic-regression\n",
      "  n_iter_i = _check_optimize_result(\n",
      "C:\\Users\\kkiwi\\anaconda3\\Lib\\site-packages\\sklearn\\linear_model\\_logistic.py:469: ConvergenceWarning: lbfgs failed to converge (status=1):\n",
      "STOP: TOTAL NO. of ITERATIONS REACHED LIMIT.\n",
      "\n",
      "Increase the number of iterations (max_iter) or scale the data as shown in:\n",
      "    https://scikit-learn.org/stable/modules/preprocessing.html\n",
      "Please also refer to the documentation for alternative solver options:\n",
      "    https://scikit-learn.org/stable/modules/linear_model.html#logistic-regression\n",
      "  n_iter_i = _check_optimize_result(\n",
      "C:\\Users\\kkiwi\\anaconda3\\Lib\\site-packages\\sklearn\\linear_model\\_logistic.py:469: ConvergenceWarning: lbfgs failed to converge (status=1):\n",
      "STOP: TOTAL NO. of ITERATIONS REACHED LIMIT.\n",
      "\n",
      "Increase the number of iterations (max_iter) or scale the data as shown in:\n",
      "    https://scikit-learn.org/stable/modules/preprocessing.html\n",
      "Please also refer to the documentation for alternative solver options:\n",
      "    https://scikit-learn.org/stable/modules/linear_model.html#logistic-regression\n",
      "  n_iter_i = _check_optimize_result(\n",
      "C:\\Users\\kkiwi\\anaconda3\\Lib\\site-packages\\sklearn\\linear_model\\_logistic.py:469: ConvergenceWarning: lbfgs failed to converge (status=1):\n",
      "STOP: TOTAL NO. of ITERATIONS REACHED LIMIT.\n",
      "\n",
      "Increase the number of iterations (max_iter) or scale the data as shown in:\n",
      "    https://scikit-learn.org/stable/modules/preprocessing.html\n",
      "Please also refer to the documentation for alternative solver options:\n",
      "    https://scikit-learn.org/stable/modules/linear_model.html#logistic-regression\n",
      "  n_iter_i = _check_optimize_result(\n"
     ]
    },
    {
     "name": "stdout",
     "output_type": "stream",
     "text": [
      "✅ Model Logistic Regression - Average Accuracy: 0.9610\n",
      "⏳ Training model: Random Forest\n",
      "✅ Model Random Forest - Average Accuracy: 0.9882\n",
      "⏳ Training model: CatBoost\n",
      "✅ Model CatBoost - Average Accuracy: 0.9972\n",
      "⏳ Training model: XGBoost\n"
     ]
    },
    {
     "name": "stderr",
     "output_type": "stream",
     "text": [
      "C:\\Users\\kkiwi\\anaconda3\\Lib\\site-packages\\xgboost\\training.py:183: UserWarning: [02:26:02] WARNING: C:\\actions-runner\\_work\\xgboost\\xgboost\\src\\learner.cc:738: \n",
      "Parameters: { \"use_label_encoder\" } are not used.\n",
      "\n",
      "  bst.update(dtrain, iteration=i, fobj=obj)\n",
      "C:\\Users\\kkiwi\\anaconda3\\Lib\\site-packages\\xgboost\\training.py:183: UserWarning: [02:26:04] WARNING: C:\\actions-runner\\_work\\xgboost\\xgboost\\src\\learner.cc:738: \n",
      "Parameters: { \"use_label_encoder\" } are not used.\n",
      "\n",
      "  bst.update(dtrain, iteration=i, fobj=obj)\n",
      "C:\\Users\\kkiwi\\anaconda3\\Lib\\site-packages\\xgboost\\training.py:183: UserWarning: [02:26:06] WARNING: C:\\actions-runner\\_work\\xgboost\\xgboost\\src\\learner.cc:738: \n",
      "Parameters: { \"use_label_encoder\" } are not used.\n",
      "\n",
      "  bst.update(dtrain, iteration=i, fobj=obj)\n",
      "C:\\Users\\kkiwi\\anaconda3\\Lib\\site-packages\\xgboost\\training.py:183: UserWarning: [02:26:07] WARNING: C:\\actions-runner\\_work\\xgboost\\xgboost\\src\\learner.cc:738: \n",
      "Parameters: { \"use_label_encoder\" } are not used.\n",
      "\n",
      "  bst.update(dtrain, iteration=i, fobj=obj)\n",
      "C:\\Users\\kkiwi\\anaconda3\\Lib\\site-packages\\xgboost\\training.py:183: UserWarning: [02:26:09] WARNING: C:\\actions-runner\\_work\\xgboost\\xgboost\\src\\learner.cc:738: \n",
      "Parameters: { \"use_label_encoder\" } are not used.\n",
      "\n",
      "  bst.update(dtrain, iteration=i, fobj=obj)\n",
      "C:\\Users\\kkiwi\\anaconda3\\Lib\\site-packages\\xgboost\\training.py:183: UserWarning: [02:26:11] WARNING: C:\\actions-runner\\_work\\xgboost\\xgboost\\src\\learner.cc:738: \n",
      "Parameters: { \"use_label_encoder\" } are not used.\n",
      "\n",
      "  bst.update(dtrain, iteration=i, fobj=obj)\n",
      "C:\\Users\\kkiwi\\anaconda3\\Lib\\site-packages\\xgboost\\training.py:183: UserWarning: [02:26:12] WARNING: C:\\actions-runner\\_work\\xgboost\\xgboost\\src\\learner.cc:738: \n",
      "Parameters: { \"use_label_encoder\" } are not used.\n",
      "\n",
      "  bst.update(dtrain, iteration=i, fobj=obj)\n",
      "C:\\Users\\kkiwi\\anaconda3\\Lib\\site-packages\\xgboost\\training.py:183: UserWarning: [02:26:14] WARNING: C:\\actions-runner\\_work\\xgboost\\xgboost\\src\\learner.cc:738: \n",
      "Parameters: { \"use_label_encoder\" } are not used.\n",
      "\n",
      "  bst.update(dtrain, iteration=i, fobj=obj)\n",
      "C:\\Users\\kkiwi\\anaconda3\\Lib\\site-packages\\xgboost\\training.py:183: UserWarning: [02:26:16] WARNING: C:\\actions-runner\\_work\\xgboost\\xgboost\\src\\learner.cc:738: \n",
      "Parameters: { \"use_label_encoder\" } are not used.\n",
      "\n",
      "  bst.update(dtrain, iteration=i, fobj=obj)\n",
      "C:\\Users\\kkiwi\\anaconda3\\Lib\\site-packages\\xgboost\\training.py:183: UserWarning: [02:26:18] WARNING: C:\\actions-runner\\_work\\xgboost\\xgboost\\src\\learner.cc:738: \n",
      "Parameters: { \"use_label_encoder\" } are not used.\n",
      "\n",
      "  bst.update(dtrain, iteration=i, fobj=obj)\n"
     ]
    },
    {
     "name": "stdout",
     "output_type": "stream",
     "text": [
      "✅ Model XGBoost - Average Accuracy: 0.9964\n",
      "⏳ Training model: LGBoost\n",
      "✅ Model LGBoost - Average Accuracy: 0.9954\n",
      "\n",
      "📊 Cross-Validation Accuracy for All Models:\n",
      "Logistic Regression: 0.9610\n",
      "Random Forest: 0.9882\n",
      "CatBoost: 0.9972\n",
      "XGBoost: 0.9964\n",
      "LGBoost: 0.9954\n"
     ]
    }
   ],
   "source": [
    "from sklearn.model_selection import KFold\n",
    "from sklearn.ensemble import RandomForestClassifier\n",
    "from sklearn.linear_model import LogisticRegression\n",
    "from catboost import CatBoostClassifier\n",
    "import xgboost as xgb\n",
    "import numpy as np\n",
    "import pandas as pd\n",
    "from sklearn.metrics import accuracy_score\n",
    "\n",
    "# Define the list of models to evaluate\n",
    "models = {\n",
    "    \"Logistic Regression\": LogisticRegression(max_iter=1000),\n",
    "    \"Random Forest\": RandomForestClassifier(n_estimators=100, random_state=42),\n",
    "    \"CatBoost\": CatBoostClassifier(verbose=0),\n",
    "    \"XGBoost\": xgb.XGBClassifier(use_label_encoder=False, eval_metric='logloss'),\n",
    "    \"LGBoost\": lgb.LGBMClassifier()\n",
    "}\n",
    "\n",
    "# Initialize a dictionary to store average accuracy results\n",
    "results = {}\n",
    "\n",
    "# Set up 10-fold cross-validation\n",
    "kf = KFold(n_splits=10, shuffle=True, random_state=42)\n",
    "\n",
    "# Train and evaluate each model\n",
    "for name, model in models.items():\n",
    "    acc_list = []\n",
    "    print(f\"⏳ Training model: {name}\")\n",
    "    \n",
    "    for train_idx, val_idx in kf.split(X_resampled):\n",
    "        X_train, X_val = X_resampled.iloc[train_idx], X_resampled.iloc[val_idx]\n",
    "        y_train, y_val = y_resampled.iloc[train_idx], y_resampled.iloc[val_idx]\n",
    "\n",
    "        model.fit(X_train, y_train)\n",
    "        y_pred = model.predict(X_val)\n",
    "\n",
    "        acc = accuracy_score(y_val, y_pred)\n",
    "        acc_list.append(acc)\n",
    "    \n",
    "    avg_acc = np.mean(acc_list)\n",
    "    results[name] = avg_acc\n",
    "    print(f\"✅ Model {name} - Average Accuracy: {avg_acc:.4f}\")\n",
    "\n",
    "# Print the summary of results\n",
    "print(\"\\n📊 Cross-Validation Accuracy for All Models:\")\n",
    "for name, acc in results.items():\n",
    "    print(f\"{name}: {acc:.4f}\")"
   ]
  },
  {
   "cell_type": "code",
   "execution_count": 84,
   "id": "6ab86d9f-cc72-4d9d-84e2-a03bdf5652b8",
   "metadata": {},
   "outputs": [
    {
     "data": {
      "image/png": "[encoded data removed]",
      "text/plain": [
       "<Figure size 1200x500 with 1 Axes>"
      ]
     },
     "metadata": {},
     "output_type": "display_data"
    }
   ],
   "source": [
    "import matplotlib.pyplot as plt\n",
    "\n",
    "# Sort results by accuracy (descending)\n",
    "sorted_results = dict(sorted(results.items(), key=lambda x: x[1], reverse=True))\n",
    "\n",
    "# Create the figure\n",
    "plt.figure(figsize=(12, 5))\n",
    "\n",
    "# Accuracy Bar Chart\n",
    "plt.subplot(1, 2, 1)\n",
    "bars = plt.bar(sorted_results.keys(), sorted_results.values(), color='skyblue')\n",
    "plt.xticks(rotation=45)\n",
    "plt.title('Average Accuracy per Model (Sorted)')\n",
    "plt.ylabel('Accuracy')\n",
    "\n",
    "# Add value labels on top of each bar\n",
    "for bar in bars:\n",
    "    height = bar.get_height()\n",
    "    plt.text(\n",
    "        bar.get_x() + bar.get_width() / 2,\n",
    "        height + 0.005,\n",
    "        f'{height:.4f}',\n",
    "        ha='center', va='bottom', fontsize=9\n",
    "    )\n",
    "\n",
    "plt.tight_layout()\n",
    "plt.show()"
   ]
  },
  {
   "cell_type": "code",
   "execution_count": 24,
   "id": "2bfe5d8e-709a-4de3-b652-42bc3191dc50",
   "metadata": {},
   "outputs": [],
   "source": [
    "# Average feature importance across folds\n",
    "feature_importance /= 10\n",
    "\n",
    "# 6. Feature Selection\n",
    "# Use SelectFromModel to select features based on importance\n",
    "selector = SelectFromModel(model, threshold='mean', prefit=True)\n",
    "selected_features = selector.get_support(indices=True)\n",
    "\n",
    "\n",
    "# Get the names of selected features from the one-hot encoded DataFrame\n",
    "selected_feature_names = X_resampled.columns[selected_features].tolist()"
   ]
  },
  {
   "cell_type": "code",
   "execution_count": 86,
   "id": "8bcbcfd5-649f-4540-a8dd-672174191206",
   "metadata": {},
   "outputs": [
    {
     "data": {
      "text/plain": [
       "<catboost.core.CatBoostClassifier at 0x1abc9c0bef0>"
      ]
     },
     "execution_count": 86,
     "metadata": {},
     "output_type": "execute_result"
    }
   ],
   "source": [
    "# Train Final Model on Entire Training Data\n",
    "# final_model = lgb.LGBMClassifier() \n",
    "final_model = CatBoostClassifier(verbose=0)\n",
    "\n",
    "# Fit the model using early stopping and verbose via callbacks\n",
    "final_model.fit(\n",
    "    X_resampled[selected_feature_names], \n",
    "    y_resampled,\n",
    ") "
   ]
  },
  {
   "cell_type": "code",
   "execution_count": 88,
   "id": "2d8a54b8-c595-4e2c-a930-eca10a56325d",
   "metadata": {},
   "outputs": [
    {
     "name": "stdout",
     "output_type": "stream",
     "text": [
      "            Feature  Importance\n",
      "1           Balance   33.502160\n",
      "3     NumComplaints   23.446834\n",
      "2     NumOfProducts   21.798453\n",
      "0      Credit Score   21.015521\n",
      "4  Region_Northeast    0.237032\n"
     ]
    },
    {
     "data": {
      "image/png": "[encoded data removed]",
      "text/plain": [
       "<Figure size 1000x600 with 1 Axes>"
      ]
     },
     "metadata": {},
     "output_type": "display_data"
    }
   ],
   "source": [
    "# Print out feature importance\n",
    "importance = final_model.feature_importances_\n",
    "\n",
    "# Create a DataFrame for better visualization\n",
    "importance_df = pd.DataFrame({\n",
    "    'Feature': selected_feature_names,\n",
    "    'Importance': importance\n",
    "})\n",
    "\n",
    "# Sort the DataFrame by importance\n",
    "importance_df = importance_df.sort_values(by='Importance', ascending=False)\n",
    "\n",
    "# Print feature importance\n",
    "print(importance_df)\n",
    "\n",
    "# Optionally, plot the feature importances\n",
    "plt.figure(figsize=(10, 6))\n",
    "plt.barh(importance_df['Feature'], importance_df['Importance'], color='skyblue')\n",
    "plt.xlabel('Importance')\n",
    "plt.title('Feature Importance')\n",
    "plt.gca().invert_yaxis()  # Invert y-axis for better readability\n",
    "plt.show()"
   ]
  },
  {
   "cell_type": "code",
   "execution_count": 27,
   "id": "4f0fd1c0-0da8-4581-b8b9-c63fac79ddf3",
   "metadata": {},
   "outputs": [],
   "source": [
    "from sklearn.metrics import roc_auc_score\n",
    "from sklearn.metrics import classification_report, confusion_matrix"
   ]
  },
  {
   "cell_type": "code",
   "execution_count": 28,
   "id": "adffc505-4097-4d03-b736-6111cae80a19",
   "metadata": {},
   "outputs": [
    {
     "name": "stdout",
     "output_type": "stream",
     "text": [
      "ROC-AUC score is  0.9926322764205021\n"
     ]
    }
   ],
   "source": [
    "predictions = final_model.predict(X_test[selected_feature_names])\n",
    "binary_predictions = (predictions >= 0.5).astype(int)\n",
    "auc_score = roc_auc_score(y_test, binary_predictions)\n",
    "print(\"ROC-AUC score is \",auc_score)"
   ]
  },
  {
   "cell_type": "code",
   "execution_count": 29,
   "id": "5ebffbb9-ff32-4754-a6ef-7f80303f4cc1",
   "metadata": {},
   "outputs": [
    {
     "name": "stdout",
     "output_type": "stream",
     "text": [
      "              precision    recall  f1-score   support\n",
      "\n",
      "           0       1.00      0.99      0.99     30464\n",
      "           1       0.93      1.00      0.96      4228\n",
      "\n",
      "    accuracy                           0.99     34692\n",
      "   macro avg       0.97      0.99      0.98     34692\n",
      "weighted avg       0.99      0.99      0.99     34692\n",
      "\n"
     ]
    }
   ],
   "source": [
    "print (classification_report(y_test, binary_predictions))"
   ]
  },
  {
   "cell_type": "code",
   "execution_count": 30,
   "id": "818ab061-7dee-442a-a5ec-883b777fc74e",
   "metadata": {},
   "outputs": [
    {
     "name": "stdout",
     "output_type": "stream",
     "text": [
      "Fitting 3 folds for each of 64 candidates, totalling 192 fits\n",
      "Best Parameters: {'colsample_bytree': 1.0, 'learning_rate': 0.1, 'max_depth': 10, 'n_estimators': 200, 'num_leaves': 31, 'subsample': 0.8}\n",
      "Best Cross-Validation Score: 0.9934793618637631\n",
      "Test Set Score: 0.992764902571198\n"
     ]
    }
   ],
   "source": [
    "from sklearn.model_selection import GridSearchCV\n",
    "\n",
    "lgb_model = lgb.LGBMClassifier(verbose=-1)\n",
    "\n",
    "# Define the parameter grid\n",
    "param_grid = {\n",
    "    'num_leaves': [31, 50],                     # Fewer choices\n",
    "    'max_depth': [-1, 10],                       # Fewer choices\n",
    "    'learning_rate': [0.01, 0.1],                # Fewer choices\n",
    "    'n_estimators': [100, 200],                  # Fewer choices\n",
    "    'subsample': [0.8, 1.0],                     # Fewer choices\n",
    "    'colsample_bytree': [0.8, 1.0],              # Fewer choices\n",
    "}\n",
    "\n",
    "# Set up GridSearchCV\n",
    "grid_search = GridSearchCV(estimator=lgb_model,\n",
    "                           param_grid=param_grid,\n",
    "                           scoring='accuracy',  # You can change to 'f1', 'roc_auc', etc. depending on your task\n",
    "                           cv=3,                # Number of cross-validation folds\n",
    "                           verbose=1,          # Print progress\n",
    "                           n_jobs=-1)          # Use all available cores\n",
    "\n",
    "# Fit the grid search model\n",
    "grid_search.fit(X_resampled[selected_feature_names], \n",
    "    y_resampled)\n",
    "\n",
    "# Print the best parameters and best score\n",
    "print(\"Best Parameters:\", grid_search.best_params_)\n",
    "print(\"Best Cross-Validation Score:\", grid_search.best_score_)\n",
    "\n",
    "# Optionally, you can evaluate the best model on the test set\n",
    "best_model = grid_search.best_estimator_\n",
    "test_score = best_model.score(X_test[selected_feature_names], y_test)\n",
    "print(\"Test Set Score:\", test_score)"
   ]
  },
  {
   "cell_type": "markdown",
   "id": "6d0f50d5-8857-48fc-a3ba-3434fd4c85bc",
   "metadata": {},
   "source": [
    "### Visualiztion"
   ]
  },
  {
   "cell_type": "code",
   "execution_count": 32,
   "id": "e86a66c6-8a8b-4bd0-95fe-29e247879173",
   "metadata": {},
   "outputs": [
    {
     "name": "stdout",
     "output_type": "stream",
     "text": [
      "Churn Rate by Balance Bin:\n",
      "  Balance Bin  Churn Rate\n",
      "0         Low    0.446939\n",
      "1      Medium    0.040574\n",
      "2        High    0.000000\n",
      "3   Very High    0.000000\n"
     ]
    },
    {
     "data": {
      "image/png": "[encoded data removed]",
      "text/plain": [
       "<Figure size 800x500 with 1 Axes>"
      ]
     },
     "metadata": {},
     "output_type": "display_data"
    }
   ],
   "source": [
    "# Define bins based on the provided statistics\n",
    "bins = [0, 61991.915, 124505.890, 187122.9225, 249998.91]\n",
    "labels = ['Low', 'Medium', 'High', 'Very High']\n",
    "\n",
    "# Create a new column for binned balances\n",
    "df['Balance_Bin'] = pd.cut(df['Balance'], bins=bins, labels=labels, include_lowest=True)\n",
    "\n",
    "# Display the counts for each bin\n",
    "bin_counts = df['Balance_Bin'].value_counts().sort_index()\n",
    "churn_rate = df.groupby('Balance_Bin', observed=False)['Churn Flag'].mean().reset_index()\n",
    "\n",
    "# Rename columns for clarity\n",
    "churn_rate.columns = ['Balance Bin', 'Churn Rate']\n",
    "\n",
    "# Display the churn rates for each bin\n",
    "print(\"Churn Rate by Balance Bin:\")\n",
    "print(churn_rate)\n",
    "\n",
    "# Plotting\n",
    "plt.figure(figsize=(8, 5))\n",
    "plt.bar(churn_rate['Balance Bin'], churn_rate['Churn Rate'], color='skyblue')\n",
    "plt.title('Churn Rate by Balance Bin')\n",
    "plt.xlabel('Balance Bin')\n",
    "plt.ylabel('Churn Rate')\n",
    "plt.ylim(0, 1)  # Set y-axis limit for churn rate (0 to 1)\n",
    "plt.grid(axis='y')\n",
    "plt.show()"
   ]
  },
  {
   "cell_type": "code",
   "execution_count": 33,
   "id": "e4eda351-dad7-41b8-a003-554c66d9da2b",
   "metadata": {},
   "outputs": [
    {
     "name": "stdout",
     "output_type": "stream",
     "text": [
      "Churn Rate by Credit Score Bin:\n",
      "  Credit Score Bin  Churn Rate\n",
      "0              Low    0.227468\n",
      "1           Medium    0.204470\n",
      "2             High    0.142664\n",
      "3        Very High    0.091292\n"
     ]
    },
    {
     "data": {
      "image/png": "[encoded data removed]",
      "text/plain": [
       "<Figure size 1000x600 with 1 Axes>"
      ]
     },
     "metadata": {},
     "output_type": "display_data"
    }
   ],
   "source": [
    "# Define bins based on the provided statistics\n",
    "bins = [0, 300.00, 436.000, 574.000, 712.0000]\n",
    "labels = ['Low', 'Medium', 'High', 'Very High']\n",
    "\n",
    "# Create a new column for binned balances\n",
    "df['CS_Bin'] = pd.cut(df['Credit Score'], bins=bins, labels=labels, include_lowest=True)\n",
    "\n",
    "# Display the counts for each bin\n",
    "bin_counts = df['CS_Bin'].value_counts().sort_index()\n",
    "churn_rate = df.groupby('CS_Bin', observed=False)['Churn Flag'].mean().reset_index()\n",
    "\n",
    "# Rename columns for clarity\n",
    "churn_rate.columns = ['Credit Score Bin', 'Churn Rate']\n",
    "\n",
    "# Display the churn rates for each bin\n",
    "print(\"Churn Rate by Credit Score Bin:\")\n",
    "print(churn_rate)\n",
    "\n",
    "# Plotting\n",
    "plt.figure(figsize=(10, 6))\n",
    "plt.bar(churn_rate['Credit Score Bin'], churn_rate['Churn Rate'], color='skyblue')\n",
    "plt.title('Churn Rate by Credit Score Bin')\n",
    "plt.xlabel('Credit Scoree Bin')\n",
    "plt.ylabel('Churn Rate')\n",
    "plt.ylim(0, 1)  # Set y-axis limit for churn rate (0 to 1)\n",
    "plt.grid(axis='y')\n",
    "plt.show()"
   ]
  },
  {
   "cell_type": "code",
   "execution_count": 34,
   "id": "433dfa30-69aa-4fb5-a464-12479b947f50",
   "metadata": {},
   "outputs": [
    {
     "name": "stdout",
     "output_type": "stream",
     "text": [
      "Churn Rate by NumOfProducts Bin:\n",
      "  NumOfProducts Bin  Churn Rate\n",
      "0               Low    0.208665\n",
      "1            Medium    0.164215\n",
      "2              High    0.113975\n",
      "3         Very High    0.078487\n"
     ]
    },
    {
     "data": {
      "image/png": "[encoded data removed]",
      "text/plain": [
       "<Figure size 1000x600 with 1 Axes>"
      ]
     },
     "metadata": {},
     "output_type": "display_data"
    }
   ],
   "source": [
    "# Define bins based on the provided statistics\n",
    "bins = [0, 1, 2, 3, 4]\n",
    "labels = ['Low', 'Medium', 'High', 'Very High']\n",
    "\n",
    "# Create a new column for binned balances\n",
    "df['NumOfProducts_Bin'] = pd.cut(df['NumOfProducts'], bins=bins, labels=labels, include_lowest=True)\n",
    "\n",
    "# Display the counts for each bin\n",
    "bin_counts = df['NumOfProducts_Bin'].value_counts().sort_index()\n",
    "churn_rate = df.groupby('NumOfProducts_Bin', observed=False)['Churn Flag'].mean().reset_index()\n",
    "\n",
    "# Rename columns for clarity\n",
    "churn_rate.columns = ['NumOfProducts Bin', 'Churn Rate']\n",
    "\n",
    "# Display the churn rates for each bin\n",
    "print(\"Churn Rate by NumOfProducts Bin:\")\n",
    "print(churn_rate)\n",
    "\n",
    "# Plotting\n",
    "plt.figure(figsize=(10, 6))\n",
    "plt.bar(churn_rate['NumOfProducts Bin'], churn_rate['Churn Rate'], color='skyblue')\n",
    "plt.title('Churn Rate by NumOfProducts Bin')\n",
    "plt.xlabel('NumOfProducts Bin')\n",
    "plt.ylabel('Churn Rate')\n",
    "plt.ylim(0, 1)  # Set y-axis limit for churn rate (0 to 1)\n",
    "plt.grid(axis='y')\n",
    "plt.show()"
   ]
  },
  {
   "cell_type": "code",
   "execution_count": 35,
   "id": "a2b4cec3-326e-4933-8b1f-6588375fa3b0",
   "metadata": {},
   "outputs": [
    {
     "name": "stdout",
     "output_type": "stream",
     "text": [
      "Churn Rate by NumComplaints Bin:\n",
      "  NumComplaints Bin  Churn Rate\n",
      "0               Low    0.041983\n",
      "1            Medium    0.093701\n",
      "2              High    0.162356\n",
      "3         Very High    0.224627\n"
     ]
    },
    {
     "data": {
      "image/png": "[encoded data removed]",
      "text/plain": [
       "<Figure size 1000x600 with 1 Axes>"
      ]
     },
     "metadata": {},
     "output_type": "display_data"
    }
   ],
   "source": [
    "# Define bins based on the provided statistics\n",
    "bins = [0, 2, 5, 8, 10]\n",
    "labels = ['Low', 'Medium', 'High', 'Very High']\n",
    "\n",
    "# Create a new column for binned balances\n",
    "df['NumComplaints_Bin'] = pd.cut(df['NumComplaints'], bins=bins, labels=labels, include_lowest=True)\n",
    "\n",
    "# Display the counts for each bin\n",
    "bin_counts = df['NumComplaints_Bin'].value_counts().sort_index()\n",
    "churn_rate = df.groupby('NumComplaints_Bin', observed=False)['Churn Flag'].mean().reset_index()\n",
    "\n",
    "# Rename columns for clarity\n",
    "churn_rate.columns = ['NumComplaints Bin', 'Churn Rate']\n",
    "\n",
    "# Display the churn rates for each bin\n",
    "print(\"Churn Rate by NumComplaints Bin:\")\n",
    "print(churn_rate)\n",
    "\n",
    "# Plotting\n",
    "plt.figure(figsize=(10, 6))\n",
    "plt.bar(churn_rate['NumComplaints Bin'], churn_rate['Churn Rate'], color='skyblue')\n",
    "plt.title('Churn Rate by NumComplaints Bin')\n",
    "plt.xlabel('NumComplaints Bin')\n",
    "plt.ylabel('Churn Rate')\n",
    "plt.ylim(0, 1)  # Set y-axis limit for churn rate (0 to 1)\n",
    "plt.grid(axis='y')\n",
    "plt.show()"
   ]
  }
 ],
 "metadata": {
  "kernelspec": {
   "display_name": "Python [conda env:base] *",
   "language": "python",
   "name": "conda-base-py"
  },
  "language_info": {
   "codemirror_mode": {
    "name": "ipython",
    "version": 3
   },
   "file_extension": ".py",
   "mimetype": "text/x-python",
   "name": "python",
   "nbconvert_exporter": "python",
   "pygments_lexer": "ipython3",
   "version": "3.12.7"
  }
 },
 "nbformat": 4,
 "nbformat_minor": 5
}
